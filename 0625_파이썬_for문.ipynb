{
  "nbformat": 4,
  "nbformat_minor": 0,
  "metadata": {
    "colab": {
      "provenance": [],
      "authorship_tag": "ABX9TyM/D38DLAt0SDfm88/QaKj+",
      "include_colab_link": true
    },
    "kernelspec": {
      "name": "python3",
      "display_name": "Python 3"
    },
    "language_info": {
      "name": "python"
    }
  },
  "cells": [
    {
      "cell_type": "markdown",
      "metadata": {
        "id": "view-in-github",
        "colab_type": "text"
      },
      "source": [
        "<a href=\"https://colab.research.google.com/github/eunseojeon/20250625/blob/main/0625_%ED%8C%8C%EC%9D%B4%EC%8D%AC_for%EB%AC%B8.ipynb\" target=\"_parent\"><img src=\"https://colab.research.google.com/assets/colab-badge.svg\" alt=\"Open In Colab\"/></a>"
      ]
    },
    {
      "cell_type": "markdown",
      "source": [
        "## for문 공부\n",
        "- 파이썬의 for문은 리스트, 튜플, 문자열 등 반복 가능한 객체의 요소를 하나씩 꺼내어 코드를 반복 실행하는 구문\n",
        "- 쉽게 말해, \"for 변수 in 반복가능객체:\" 형태로 여러 값을 순서대로 처리할 때 사용"
      ],
      "metadata": {
        "id": "vITIu02N4BEl"
      }
    },
    {
      "cell_type": "code",
      "execution_count": 19,
      "metadata": {
        "colab": {
          "base_uri": "https://localhost:8080/"
        },
        "id": "jvQz0RQm3h5x",
        "outputId": "2121bdb1-6552-4925-a65f-d5f059e33ddf"
      },
      "outputs": [
        {
          "output_type": "stream",
          "name": "stdout",
          "text": [
            "apple\n",
            "banana\n",
            "cherry\n"
          ]
        }
      ],
      "source": [
        "fruits = [\"apple\", \"banana\", \"cherry\"]\n",
        "for x in fruits:\n",
        "  print(x)"
      ]
    },
    {
      "cell_type": "markdown",
      "source": [
        "과일 목록에 있는 각 과일을 하나씩 꺼내서 출력하는 반복문"
      ],
      "metadata": {
        "id": "Ozytw2uD4zrJ"
      }
    },
    {
      "cell_type": "code",
      "source": [
        "for x in \"banana\":\n",
        "  print(x)"
      ],
      "metadata": {
        "colab": {
          "base_uri": "https://localhost:8080/"
        },
        "id": "mwfg-m2I45B0",
        "outputId": "c08cc9ff-ec96-4af0-e9a4-7b58beb9b5cc"
      },
      "execution_count": 20,
      "outputs": [
        {
          "output_type": "stream",
          "name": "stdout",
          "text": [
            "b\n",
            "a\n",
            "n\n",
            "a\n",
            "n\n",
            "a\n"
          ]
        }
      ]
    },
    {
      "cell_type": "markdown",
      "source": [
        "banana의 글자 하나하나를 차례대로 꺼내서 출력하는 반복문"
      ],
      "metadata": {
        "id": "uD7tfUTy5Aij"
      }
    },
    {
      "cell_type": "code",
      "source": [
        "fruits = [\"apple\", \"banana\", \"cherry\"]\n",
        "for x in fruits:\n",
        "  print(x)\n",
        "  if x == \"banana\":\n",
        "    break"
      ],
      "metadata": {
        "colab": {
          "base_uri": "https://localhost:8080/"
        },
        "id": "LZptf9T85GTh",
        "outputId": "4bf5f160-97ec-4fce-9cb4-d3e0e6cda917"
      },
      "execution_count": 21,
      "outputs": [
        {
          "output_type": "stream",
          "name": "stdout",
          "text": [
            "apple\n",
            "banana\n"
          ]
        }
      ]
    },
    {
      "cell_type": "markdown",
      "source": [
        "break 문을 사용하면 모든 항목을 반복하기 전에 루프를 중지할 수 있음"
      ],
      "metadata": {
        "id": "7ZuN-tvy5Xtt"
      }
    },
    {
      "cell_type": "code",
      "source": [
        "fruits = [\"apple\", \"banana\", \"cherry\"]\n",
        "for x in fruits:\n",
        "  if x == \"banana\":\n",
        "    continue\n",
        "  print(x)"
      ],
      "metadata": {
        "colab": {
          "base_uri": "https://localhost:8080/"
        },
        "id": "OIoAkyTx5bb9",
        "outputId": "202e2e47-9c72-4df4-b52a-17b181d0198b"
      },
      "execution_count": 22,
      "outputs": [
        {
          "output_type": "stream",
          "name": "stdout",
          "text": [
            "apple\n",
            "cherry\n"
          ]
        }
      ]
    },
    {
      "cell_type": "markdown",
      "source": [
        "continue 문을 사용하면 루프의 현재 반복을 중지하고 다음 반복을 계속할 수 있음"
      ],
      "metadata": {
        "id": "WHqVqjjq5jnY"
      }
    },
    {
      "cell_type": "code",
      "source": [
        "for x in range(6):\n",
        "  print(x)"
      ],
      "metadata": {
        "colab": {
          "base_uri": "https://localhost:8080/"
        },
        "id": "6dUsQc9Q5lKq",
        "outputId": "ade58443-18df-4d0b-9679-48c4e1d56200"
      },
      "execution_count": 23,
      "outputs": [
        {
          "output_type": "stream",
          "name": "stdout",
          "text": [
            "0\n",
            "1\n",
            "2\n",
            "3\n",
            "4\n",
            "5\n"
          ]
        }
      ]
    },
    {
      "cell_type": "markdown",
      "source": [
        "ange() 함수는 기본적으로 0부터 시작하여 1씩 증가(기본값)하고 지정된 숫자에서 끝나는 숫자 시퀀스를 반환"
      ],
      "metadata": {
        "id": "xYooPvjS5p8F"
      }
    },
    {
      "cell_type": "code",
      "source": [
        "for x in range(2, 6):\n",
        "  print(x)"
      ],
      "metadata": {
        "colab": {
          "base_uri": "https://localhost:8080/"
        },
        "id": "psUgrjER5sm8",
        "outputId": "c418f822-63d8-4ad1-d6c9-d9b65df6a80e"
      },
      "execution_count": 24,
      "outputs": [
        {
          "output_type": "stream",
          "name": "stdout",
          "text": [
            "2\n",
            "3\n",
            "4\n",
            "5\n"
          ]
        }
      ]
    },
    {
      "cell_type": "markdown",
      "source": [
        "ange () 함수는 기본적으로 시작 값으로 0을 사용하지만 매개변수를 추가하여 시작 값을 지정할 수 있습니다. range(2, 6) . 이는 2에서 6까지의 값(6은 제외)을 의미합니다"
      ],
      "metadata": {
        "id": "zTz5wFAL5zEn"
      }
    },
    {
      "cell_type": "code",
      "source": [
        "for x in range(2, 30, 3):\n",
        "  print(x)"
      ],
      "metadata": {
        "colab": {
          "base_uri": "https://localhost:8080/"
        },
        "id": "RDW8O1yQ51Au",
        "outputId": "e852e775-51a3-4fc6-a957-0b547bc1e6a1"
      },
      "execution_count": 25,
      "outputs": [
        {
          "output_type": "stream",
          "name": "stdout",
          "text": [
            "2\n",
            "5\n",
            "8\n",
            "11\n",
            "14\n",
            "17\n",
            "20\n",
            "23\n",
            "26\n",
            "29\n"
          ]
        }
      ]
    },
    {
      "cell_type": "markdown",
      "source": [
        "시퀀스를 3씩 증가시킵니다(기본값은 1):"
      ],
      "metadata": {
        "id": "xpyBfM8n56tz"
      }
    },
    {
      "cell_type": "code",
      "source": [
        "for x in range(6):\n",
        "  print(x)\n",
        "else:\n",
        "  print(\"Finally finished!\")"
      ],
      "metadata": {
        "colab": {
          "base_uri": "https://localhost:8080/"
        },
        "id": "s06I9qps6AWN",
        "outputId": "70ae4041-4b6d-4e85-f061-0ffcf42c4c77"
      },
      "execution_count": 26,
      "outputs": [
        {
          "output_type": "stream",
          "name": "stdout",
          "text": [
            "0\n",
            "1\n",
            "2\n",
            "3\n",
            "4\n",
            "5\n",
            "Finally finished!\n"
          ]
        }
      ]
    },
    {
      "cell_type": "markdown",
      "source": [
        "0부터 5까지의 모든 숫자를 출력하고, 루프가 끝나면 메시지를 출력합니다."
      ],
      "metadata": {
        "id": "IqSNrC4i6Clw"
      }
    },
    {
      "cell_type": "code",
      "source": [
        "for x in range(6):\n",
        "  if x == 3: break\n",
        "  print(x)\n",
        "else:\n",
        "  print(\"Finally finished!\")"
      ],
      "metadata": {
        "colab": {
          "base_uri": "https://localhost:8080/"
        },
        "id": "B2MKwWOo6DAn",
        "outputId": "20596591-54ec-46e1-976b-bfa3eb3ce0ad"
      },
      "execution_count": 27,
      "outputs": [
        {
          "output_type": "stream",
          "name": "stdout",
          "text": [
            "0\n",
            "1\n",
            "2\n"
          ]
        }
      ]
    },
    {
      "cell_type": "markdown",
      "source": [
        "3이 되면 루프를 끊고 \"Finally finished!\" 출력"
      ],
      "metadata": {
        "id": "-QybaoQc6HtN"
      }
    },
    {
      "cell_type": "code",
      "source": [
        "adj = [\"red\", \"big\", \"tasty\"]\n",
        "fruits = [\"apple\", \"banana\", \"cherry\"]\n",
        "\n",
        "for x in adj:\n",
        "  for y in fruits:\n",
        "    print(x, y)"
      ],
      "metadata": {
        "colab": {
          "base_uri": "https://localhost:8080/"
        },
        "id": "5vqvGVij6M7s",
        "outputId": "114ec61b-2440-4ec6-e4fa-269849c518c1"
      },
      "execution_count": 28,
      "outputs": [
        {
          "output_type": "stream",
          "name": "stdout",
          "text": [
            "red apple\n",
            "red banana\n",
            "red cherry\n",
            "big apple\n",
            "big banana\n",
            "big cherry\n",
            "tasty apple\n",
            "tasty banana\n",
            "tasty cherry\n"
          ]
        }
      ]
    },
    {
      "cell_type": "markdown",
      "source": [
        "중첩 루프로,\n",
        "각 과일에 대한 형용사를 각각 출력"
      ],
      "metadata": {
        "id": "QIpK3kFs6QlV"
      }
    },
    {
      "cell_type": "code",
      "source": [
        "for x in [0, 1, 2]:\n",
        "  pass"
      ],
      "metadata": {
        "id": "bSCGeevv6V4Q"
      },
      "execution_count": 29,
      "outputs": []
    },
    {
      "cell_type": "markdown",
      "source": [
        "for루프는 비어 있을 수 없지만, 어떤 이유로든 for내용이 없는 루프가 있는 경우 pass오류를 방지하기 위해 명령문을 넣음"
      ],
      "metadata": {
        "id": "h-UoMqye6bqY"
      }
    },
    {
      "cell_type": "markdown",
      "source": [
        "## ✅ for문을 활용한 자율주행 예제\n"
      ],
      "metadata": {
        "id": "mcuIvsU36dnQ"
      }
    },
    {
      "cell_type": "markdown",
      "source": [
        "❗️ 1. 차선 감지 결과 여러개 출력"
      ],
      "metadata": {
        "id": "8-8NVrg46uH3"
      }
    },
    {
      "cell_type": "code",
      "source": [
        "results = [True, False, True] #차선 인식 여부 리스트\n",
        "for r in results:             #리스트를 하나씩 r에 담아서 반복\n",
        "    print(\"차선 인식됨\" if r else \"차선 못 찾음\")  #조건 표현식 사용\n"
      ],
      "metadata": {
        "colab": {
          "base_uri": "https://localhost:8080/"
        },
        "id": "VJ3qqEVv6kO-",
        "outputId": "1937e939-5233-4c00-b19f-a0f52e14ec7e"
      },
      "execution_count": 30,
      "outputs": [
        {
          "output_type": "stream",
          "name": "stdout",
          "text": [
            "차선 인식됨\n",
            "차선 못 찾음\n",
            "차선 인식됨\n"
          ]
        }
      ]
    },
    {
      "cell_type": "markdown",
      "source": [
        "❗️ 2. 장애물 거리 판단"
      ],
      "metadata": {
        "id": "nSCSNImF6y0E"
      }
    },
    {
      "cell_type": "code",
      "source": [
        "distances = [5, 12, 35]   #장애물까지의 거리 리스트\n",
        "for d in distances:       #각 거리를 하나씩 꺼내서 판단\n",
        "    if d < 10:\n",
        "        print(\"급제동\")     #10m보다 가까우면 급제동\n",
        "    elif d < 30:\n",
        "        print(\"감속\")       #10~30m 사이는 감속\n",
        "    else:\n",
        "        print(\"유지 주행\")    #그 외엔 계속 주행\n"
      ],
      "metadata": {
        "colab": {
          "base_uri": "https://localhost:8080/"
        },
        "id": "3pMlM8Jd63Gn",
        "outputId": "942e6168-6ae7-48d3-b6d1-1515c0956915"
      },
      "execution_count": 31,
      "outputs": [
        {
          "output_type": "stream",
          "name": "stdout",
          "text": [
            "급제동\n",
            "감속\n",
            "유지 주행\n"
          ]
        }
      ]
    },
    {
      "cell_type": "markdown",
      "source": [
        "❗️ 3. 신호등 색 순서대로 반응"
      ],
      "metadata": {
        "id": "dWyyaoZC679S"
      }
    },
    {
      "cell_type": "code",
      "source": [
        "signals = [\"green\", \"yellow\", \"red\"] #신호등 색깔 리스트\n",
        "for s in signals:                    #각 신호(s)를 하나씩 꺼냄\n",
        "    if s == \"green\":\n",
        "        print(\"진행\")\n",
        "    elif s == \"yellow\":\n",
        "        print(\"감속\")\n",
        "    else:\n",
        "        print(\"정지\")\n"
      ],
      "metadata": {
        "colab": {
          "base_uri": "https://localhost:8080/"
        },
        "id": "FH7WIOIX66yK",
        "outputId": "30026ffb-d753-40ba-9c7f-198a29c7f82e"
      },
      "execution_count": 32,
      "outputs": [
        {
          "output_type": "stream",
          "name": "stdout",
          "text": [
            "진행\n",
            "감속\n",
            "정지\n"
          ]
        }
      ]
    },
    {
      "cell_type": "markdown",
      "source": [
        "❗️ 4. 차량 차선 상태 점검"
      ],
      "metadata": {
        "id": "sNLP2qBu6_Yp"
      }
    },
    {
      "cell_type": "code",
      "source": [
        "offsets = [-0.5, 0.0, 0.4]  # 차선 중심에서 벗어난 정도 (왼쪽/중앙/오른쪽)\n",
        "for o in offsets:\n",
        "    if o < -0.3:\n",
        "        print(\"우회전\")     # 왼쪽으로 너무 치우침 → 우회전해서 복귀\n",
        "    elif o > 0.3:\n",
        "        print(\"좌회전\")     # 오른쪽으로 너무 치우침 → 좌회전해서 복귀\n",
        "    else:\n",
        "        print(\"직진\")       # 중앙이면 핸들 그대로"
      ],
      "metadata": {
        "colab": {
          "base_uri": "https://localhost:8080/"
        },
        "id": "Nq_sPuyC7C0R",
        "outputId": "8712b8b6-21c6-42a2-aef3-9b5ee4e2b5eb"
      },
      "execution_count": 33,
      "outputs": [
        {
          "output_type": "stream",
          "name": "stdout",
          "text": [
            "우회전\n",
            "직진\n",
            "좌회전\n"
          ]
        }
      ]
    },
    {
      "cell_type": "markdown",
      "source": [
        "❗️ 5. 앞차 거리 따라 속도 조절"
      ],
      "metadata": {
        "id": "RdTxcNCV7GQR"
      }
    },
    {
      "cell_type": "code",
      "source": [
        "front = [3, 10, 20]  #앞차와의 거리를 숫자로 표현\n",
        "for f in front:\n",
        "    print(\"급제동\" if f < 5 else \"감속\" if f < 15 else \"정상 속도\") #한 줄에 조건 3개를 넣은 중첩 조건 표현식\n"
      ],
      "metadata": {
        "colab": {
          "base_uri": "https://localhost:8080/"
        },
        "id": "49jHmOIJ7Iyv",
        "outputId": "004ddf6c-c2ee-4c7a-9f9f-da22e897cbaa"
      },
      "execution_count": 34,
      "outputs": [
        {
          "output_type": "stream",
          "name": "stdout",
          "text": [
            "급제동\n",
            "감속\n",
            "정상 속도\n"
          ]
        }
      ]
    }
  ]
}